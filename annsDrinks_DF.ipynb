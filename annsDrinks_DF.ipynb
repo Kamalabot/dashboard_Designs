{
 "cells": [
  {
   "cell_type": "markdown",
   "id": "4f5921ac",
   "metadata": {},
   "source": [
    "Dataset is from a bar in Downtown. The data contains information on sales in high-end bar-cum-restaurant.  "
   ]
  },
  {
   "cell_type": "code",
   "execution_count": 2,
   "id": "2c04cea2",
   "metadata": {},
   "outputs": [],
   "source": [
    "import pandas as pd\n",
    "import pyspark\n",
    "from pyspark.sql import SparkSession\n",
    "from pyspark.sql.functions import *\n",
    "import openpyxl"
   ]
  },
  {
   "cell_type": "code",
   "execution_count": 4,
   "id": "7bfa5d08",
   "metadata": {},
   "outputs": [],
   "source": [
    "mainSheet = pd.read_excel(\"Ann Driks Dashboard.xlsx\",\n",
    "                          sheet_name=\"Database\",header=0)"
   ]
  },
  {
   "cell_type": "code",
   "execution_count": 5,
   "id": "20dbf816",
   "metadata": {},
   "outputs": [
    {
     "data": {
      "text/html": [
       "<div>\n",
       "<style scoped>\n",
       "    .dataframe tbody tr th:only-of-type {\n",
       "        vertical-align: middle;\n",
       "    }\n",
       "\n",
       "    .dataframe tbody tr th {\n",
       "        vertical-align: top;\n",
       "    }\n",
       "\n",
       "    .dataframe thead th {\n",
       "        text-align: right;\n",
       "    }\n",
       "</style>\n",
       "<table border=\"1\" class=\"dataframe\">\n",
       "  <thead>\n",
       "    <tr style=\"text-align: right;\">\n",
       "      <th></th>\n",
       "      <th>Id</th>\n",
       "      <th>Date</th>\n",
       "      <th>Customers</th>\n",
       "      <th>Gender</th>\n",
       "      <th>Sales Reps</th>\n",
       "      <th>Drinks/Products</th>\n",
       "      <th>Categories</th>\n",
       "      <th>Cost</th>\n",
       "      <th>Sals Price</th>\n",
       "      <th>Qty</th>\n",
       "      <th>Cogs</th>\n",
       "      <th>Revenue</th>\n",
       "      <th>Profit</th>\n",
       "    </tr>\n",
       "  </thead>\n",
       "  <tbody>\n",
       "    <tr>\n",
       "      <th>0</th>\n",
       "      <td>1</td>\n",
       "      <td>2019-01-01</td>\n",
       "      <td>Bernard Weatherly</td>\n",
       "      <td>M</td>\n",
       "      <td>timika poe</td>\n",
       "      <td>Heineken Bottle</td>\n",
       "      <td>Alcoholic Wine</td>\n",
       "      <td>38250</td>\n",
       "      <td>42500</td>\n",
       "      <td>3</td>\n",
       "      <td>114750</td>\n",
       "      <td>127500</td>\n",
       "      <td>12750</td>\n",
       "    </tr>\n",
       "    <tr>\n",
       "      <th>1</th>\n",
       "      <td>2</td>\n",
       "      <td>2019-01-02</td>\n",
       "      <td>Cordia Knopp</td>\n",
       "      <td>F</td>\n",
       "      <td>zona otis</td>\n",
       "      <td>Origin Bottle</td>\n",
       "      <td>Alcoholic Wine</td>\n",
       "      <td>2700</td>\n",
       "      <td>3000</td>\n",
       "      <td>5</td>\n",
       "      <td>13500</td>\n",
       "      <td>15000</td>\n",
       "      <td>1500</td>\n",
       "    </tr>\n",
       "  </tbody>\n",
       "</table>\n",
       "</div>"
      ],
      "text/plain": [
       "   Id       Date          Customers Gender  Sales Reps  Drinks/Products  \\\n",
       "0   1 2019-01-01  Bernard Weatherly      M  timika poe  Heineken Bottle   \n",
       "1   2 2019-01-02       Cordia Knopp      F   zona otis    Origin Bottle   \n",
       "\n",
       "        Categories   Cost  Sals Price  Qty    Cogs  Revenue  Profit  \n",
       "0   Alcoholic Wine  38250       42500    3  114750   127500   12750  \n",
       "1   Alcoholic Wine   2700        3000    5   13500    15000    1500  "
      ]
     },
     "execution_count": 5,
     "metadata": {},
     "output_type": "execute_result"
    }
   ],
   "source": [
    "mainSheet.head(2)"
   ]
  },
  {
   "cell_type": "code",
   "execution_count": null,
   "id": "0a98e9c9",
   "metadata": {},
   "outputs": [],
   "source": []
  }
 ],
 "metadata": {
  "kernelspec": {
   "display_name": "Python 3 (ipykernel)",
   "language": "python",
   "name": "python3"
  },
  "language_info": {
   "codemirror_mode": {
    "name": "ipython",
    "version": 3
   },
   "file_extension": ".py",
   "mimetype": "text/x-python",
   "name": "python",
   "nbconvert_exporter": "python",
   "pygments_lexer": "ipython3",
   "version": "3.10.8"
  }
 },
 "nbformat": 4,
 "nbformat_minor": 5
}
