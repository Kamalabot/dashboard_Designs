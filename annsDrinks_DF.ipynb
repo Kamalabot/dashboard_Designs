{
 "cells": [
  {
   "cell_type": "markdown",
   "id": "c8a49a2b",
   "metadata": {},
   "source": [
    "Dataset is from a bar in Downtown. The data contains information on sales in high-end bar-cum-restaurant.  "
   ]
  },
  {
   "cell_type": "code",
   "execution_count": 2,
   "id": "5d2bb877",
   "metadata": {},
   "outputs": [],
   "source": [
    "import pandas as pd\n",
    "import pyspark\n",
    "from pyspark.sql import SparkSession\n",
    "from pyspark.sql.functions import *"
   ]
  },
  {
   "cell_type": "code",
   "execution_count": null,
   "id": "f713d8be",
   "metadata": {},
   "outputs": [],
   "source": [
    "mainSheet = "
   ]
  },
  {
   "cell_type": "code",
   "execution_count": null,
   "id": "10fb7a7c",
   "metadata": {},
   "outputs": [],
   "source": []
  },
  {
   "cell_type": "code",
   "execution_count": null,
   "id": "85d6c6d5",
   "metadata": {},
   "outputs": [],
   "source": []
  }
 ],
 "metadata": {
  "kernelspec": {
   "display_name": "Python 3 (ipykernel)",
   "language": "python",
   "name": "python3"
  },
  "language_info": {
   "codemirror_mode": {
    "name": "ipython",
    "version": 3
   },
   "file_extension": ".py",
   "mimetype": "text/x-python",
   "name": "python",
   "nbconvert_exporter": "python",
   "pygments_lexer": "ipython3",
   "version": "3.10.8"
  }
 },
 "nbformat": 4,
 "nbformat_minor": 5
}
