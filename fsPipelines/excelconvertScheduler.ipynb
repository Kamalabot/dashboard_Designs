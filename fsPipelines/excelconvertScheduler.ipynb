{
 "cells": [
  {
   "cell_type": "markdown",
   "id": "543e409d",
   "metadata": {},
   "source": [
    "### This notebook is about steps involved in taking file from local file system and writing it to local database"
   ]
  },
  {
   "cell_type": "code",
   "execution_count": 4,
   "id": "36e90fef",
   "metadata": {},
   "outputs": [],
   "source": [
    "#It uses database connectivity libraries, python and pandas\n",
    "\n",
    "import pandas as pd\n",
    "import psycopg2\n",
    "import os"
   ]
  },
  {
   "cell_type": "markdown",
   "id": "41654fcc",
   "metadata": {},
   "source": [
    "Problem statement:\n",
    "\n",
    "Excel file is uploaded to particular folder on regular intervals, say 15 minutes\n",
    "File needs to be converted to CSV file and written back to same folder\n",
    "The data in the file needs to be written to a database connected to Airflow\n",
    "\n",
    "1) Locate the file location where it will be regularly updated by the absolute path\n",
    "\n",
    "2) Write the function to read the file into pandas, create dataframe, drop unncessary columns\n",
    "\n",
    "3) Write the function that writes the dataframe to csv file and stores it back to destination location\n",
    "\n",
    "4) Write the database connectivity function that creates the table in Postgresql database"
   ]
  },
  {
   "cell_type": "code",
   "execution_count": 27,
   "id": "fdc9a27f",
   "metadata": {},
   "outputs": [],
   "source": [
    "source = \"/run/media/solverbot/repoA/gitFolders/dashBoard Designs/fsPipelines/fileupload/\"\n",
    "dest = \"/run/media/solverbot/repoA/gitFolders/dashBoard Designs/fsPipelines/fileCSV/\""
   ]
  },
  {
   "cell_type": "code",
   "execution_count": 28,
   "id": "a4bff783",
   "metadata": {},
   "outputs": [
    {
     "data": {
      "text/plain": [
       "'Tick Sales Dashboard.xlsx'"
      ]
     },
     "execution_count": 28,
     "metadata": {},
     "output_type": "execute_result"
    }
   ],
   "source": [
    "#Take the last file in the directory list\n",
    "os.listdir(source)[-1]"
   ]
  },
  {
   "cell_type": "code",
   "execution_count": 29,
   "id": "348cce36",
   "metadata": {},
   "outputs": [],
   "source": [
    "sourcePath = source + os.listdir(source)[-1]"
   ]
  },
  {
   "cell_type": "code",
   "execution_count": 30,
   "id": "ade7edc0",
   "metadata": {},
   "outputs": [],
   "source": [
    "name = os.listdir(source)[-1]"
   ]
  },
  {
   "cell_type": "code",
   "execution_count": 40,
   "id": "04c85246",
   "metadata": {},
   "outputs": [],
   "source": [
    "sourceDF = pd.read_excel(sourcePath,sheet_name='DataSource',header=0)"
   ]
  },
  {
   "cell_type": "code",
   "execution_count": 41,
   "id": "85f00435",
   "metadata": {},
   "outputs": [
    {
     "data": {
      "text/html": [
       "<div>\n",
       "<style scoped>\n",
       "    .dataframe tbody tr th:only-of-type {\n",
       "        vertical-align: middle;\n",
       "    }\n",
       "\n",
       "    .dataframe tbody tr th {\n",
       "        vertical-align: top;\n",
       "    }\n",
       "\n",
       "    .dataframe thead th {\n",
       "        text-align: right;\n",
       "    }\n",
       "</style>\n",
       "<table border=\"1\" class=\"dataframe\">\n",
       "  <thead>\n",
       "    <tr style=\"text-align: right;\">\n",
       "      <th></th>\n",
       "      <th>Year</th>\n",
       "      <th>Ticket Types</th>\n",
       "      <th>Age-Group</th>\n",
       "      <th>Gender</th>\n",
       "      <th>Location</th>\n",
       "      <th>Ticket Price</th>\n",
       "      <th>Audience</th>\n",
       "      <th>Location-Filter</th>\n",
       "      <th>Year-Filter</th>\n",
       "      <th>Ticket-Filter</th>\n",
       "      <th>Unnamed: 10</th>\n",
       "      <th>Unnamed: 11</th>\n",
       "    </tr>\n",
       "  </thead>\n",
       "  <tbody>\n",
       "    <tr>\n",
       "      <th>0</th>\n",
       "      <td>2020</td>\n",
       "      <td>VIP</td>\n",
       "      <td>39-41</td>\n",
       "      <td>Male</td>\n",
       "      <td>Delta</td>\n",
       "      <td>100000</td>\n",
       "      <td>1</td>\n",
       "      <td>False</td>\n",
       "      <td>True</td>\n",
       "      <td>True</td>\n",
       "      <td>NaN</td>\n",
       "      <td>NaN</td>\n",
       "    </tr>\n",
       "    <tr>\n",
       "      <th>1</th>\n",
       "      <td>2020</td>\n",
       "      <td>VVIP</td>\n",
       "      <td>39-42</td>\n",
       "      <td>Female</td>\n",
       "      <td>Ebonyi</td>\n",
       "      <td>500000</td>\n",
       "      <td>3</td>\n",
       "      <td>False</td>\n",
       "      <td>True</td>\n",
       "      <td>True</td>\n",
       "      <td>NaN</td>\n",
       "      <td>120140000.0</td>\n",
       "    </tr>\n",
       "    <tr>\n",
       "      <th>2</th>\n",
       "      <td>2020</td>\n",
       "      <td>Regular</td>\n",
       "      <td>43-45</td>\n",
       "      <td>Male</td>\n",
       "      <td>Edo</td>\n",
       "      <td>20000</td>\n",
       "      <td>1</td>\n",
       "      <td>False</td>\n",
       "      <td>True</td>\n",
       "      <td>True</td>\n",
       "      <td>NaN</td>\n",
       "      <td>NaN</td>\n",
       "    </tr>\n",
       "    <tr>\n",
       "      <th>3</th>\n",
       "      <td>2020</td>\n",
       "      <td>VIP</td>\n",
       "      <td>46-48</td>\n",
       "      <td>Female</td>\n",
       "      <td>Ekiti</td>\n",
       "      <td>100000</td>\n",
       "      <td>1</td>\n",
       "      <td>False</td>\n",
       "      <td>True</td>\n",
       "      <td>True</td>\n",
       "      <td>NaN</td>\n",
       "      <td>NaN</td>\n",
       "    </tr>\n",
       "    <tr>\n",
       "      <th>4</th>\n",
       "      <td>2020</td>\n",
       "      <td>VIP</td>\n",
       "      <td>49-51</td>\n",
       "      <td>Male</td>\n",
       "      <td>Imo</td>\n",
       "      <td>100000</td>\n",
       "      <td>1</td>\n",
       "      <td>False</td>\n",
       "      <td>True</td>\n",
       "      <td>True</td>\n",
       "      <td>NaN</td>\n",
       "      <td>NaN</td>\n",
       "    </tr>\n",
       "  </tbody>\n",
       "</table>\n",
       "</div>"
      ],
      "text/plain": [
       "   Year Ticket Types Age-Group  Gender Location  Ticket Price  Audience  \\\n",
       "0  2020          VIP     39-41    Male    Delta        100000         1   \n",
       "1  2020         VVIP     39-42  Female   Ebonyi        500000         3   \n",
       "2  2020      Regular     43-45    Male      Edo         20000         1   \n",
       "3  2020          VIP     46-48  Female    Ekiti        100000         1   \n",
       "4  2020          VIP     49-51    Male      Imo        100000         1   \n",
       "\n",
       "   Location-Filter  Year-Filter  Ticket-Filter  Unnamed: 10  Unnamed: 11  \n",
       "0            False         True           True          NaN          NaN  \n",
       "1            False         True           True          NaN  120140000.0  \n",
       "2            False         True           True          NaN          NaN  \n",
       "3            False         True           True          NaN          NaN  \n",
       "4            False         True           True          NaN          NaN  "
      ]
     },
     "execution_count": 41,
     "metadata": {},
     "output_type": "execute_result"
    }
   ],
   "source": [
    "sourceDF.head()"
   ]
  },
  {
   "cell_type": "code",
   "execution_count": 43,
   "id": "f7f11267",
   "metadata": {},
   "outputs": [],
   "source": [
    "frameCols = sourceDF.columns\n",
    "dropColumns = []\n",
    "for x in frameCols:\n",
    "    if x.split(':')[0] == 'Unnamed':\n",
    "        dropColumns.append(x)\n",
    "sourceDF.drop(dropColumns,inplace=True,axis=1)"
   ]
  },
  {
   "cell_type": "code",
   "execution_count": 47,
   "id": "6ba2f303",
   "metadata": {},
   "outputs": [],
   "source": [
    "#Formatting the columns headers to \n",
    "frameCols = sourceDF.columns\n",
    "cols = []\n",
    "for x in frameCols:\n",
    "    temp = x.replace(\" \",'_')\n",
    "    temp = temp.replace(\"-\",\"_\")\n",
    "    temp = temp.replace(\":\",\"_\")\n",
    "    cols.append(temp)\n",
    "sourceDF.columns = cols"
   ]
  },
  {
   "cell_type": "code",
   "execution_count": 49,
   "id": "2fe221b6",
   "metadata": {},
   "outputs": [],
   "source": [
    "#transformation function\n",
    "def transformXL(fileLocation, worksheet = 'DataSource'):\n",
    "    \n",
    "    sourceDF = pd.read_excel(sourcePath,sheet_name='DataSource',header=0)\n",
    "    \n",
    "    frameCols = sourceDF.columns\n",
    "    dropColumns = []\n",
    "    \n",
    "    for x in frameCols:\n",
    "        if x.split(':')[0] == 'Unnamed':\n",
    "            dropColumns.append(x)\n",
    "    sourceDF.drop(dropColumns,inplace=True,axis=1)\n",
    "    \n",
    "    #Formatting the columns headers to \n",
    "    frameCols = sourceDF.columns\n",
    "    cols = []\n",
    "    for x in frameCols:\n",
    "        temp = x.replace(\" \",'_')\n",
    "        temp = temp.replace(\"-\",\"_\")\n",
    "        temp = temp.replace(\":\",\"_\")\n",
    "        cols.append(temp)\n",
    "        \n",
    "    sourceDF.columns = cols\n",
    "    \n",
    "    return sourceDF"
   ]
  },
  {
   "cell_type": "code",
   "execution_count": 57,
   "id": "7283eec7",
   "metadata": {},
   "outputs": [
    {
     "data": {
      "text/plain": [
       "'/run/media/solverbot/repoA/gitFolders/dashBoard Designs/fsPipelines/fileCSV/Tick_Sales_Dashboard.csv'"
      ]
     },
     "execution_count": 57,
     "metadata": {},
     "output_type": "execute_result"
    }
   ],
   "source": [
    "destname = name.split('.')[0]+'.csv'\n",
    "destname = destname.replace(' ','_')\n",
    "destname = dest + destname\n",
    "destname"
   ]
  },
  {
   "cell_type": "code",
   "execution_count": 58,
   "id": "68fa1aa9",
   "metadata": {},
   "outputs": [],
   "source": [
    "sourceDF.to_csv(destname,index=False)"
   ]
  },
  {
   "cell_type": "code",
   "execution_count": 60,
   "id": "c3a8f356",
   "metadata": {},
   "outputs": [],
   "source": [
    "def writeFS(dataframe, filename):\n",
    "    dataframe.to_csv(filename,index=False)"
   ]
  },
  {
   "cell_type": "code",
   "execution_count": 61,
   "id": "a5b80c6d",
   "metadata": {},
   "outputs": [],
   "source": [
    "import configparser\n",
    "import warnings\n",
    "warnings.filterwarnings('ignore')"
   ]
  },
  {
   "cell_type": "code",
   "execution_count": null,
   "id": "4663fd7c",
   "metadata": {},
   "outputs": [],
   "source": [
    "config = configparser.ConfigParser()\n",
    "config.read('')"
   ]
  }
 ],
 "metadata": {
  "kernelspec": {
   "display_name": "Python 3 (ipykernel)",
   "language": "python",
   "name": "python3"
  },
  "language_info": {
   "codemirror_mode": {
    "name": "ipython",
    "version": 3
   },
   "file_extension": ".py",
   "mimetype": "text/x-python",
   "name": "python",
   "nbconvert_exporter": "python",
   "pygments_lexer": "ipython3",
   "version": "3.10.8"
  }
 },
 "nbformat": 4,
 "nbformat_minor": 5
}
