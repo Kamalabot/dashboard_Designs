{
 "cells": [
  {
   "cell_type": "markdown",
   "id": "543e409d",
   "metadata": {},
   "source": [
    "### This notebook is about steps involved in taking file from local file system and writing it to local database"
   ]
  },
  {
   "cell_type": "code",
   "execution_count": 5,
   "id": "36e90fef",
   "metadata": {},
   "outputs": [],
   "source": [
    "#It uses database connectivity libraries, python and pandas\n",
    "\n",
    "import pandas as pd\n",
    "import psycopg2\n",
    "import os"
   ]
  },
  {
   "cell_type": "code",
   "execution_count": 8,
   "id": "e63dc863",
   "metadata": {},
   "outputs": [
    {
     "data": {
      "text/plain": [
       "['.ipynb_checkpoints',\n",
       " 'clusterdash.config',\n",
       " 'excelconvertScheduler.ipynb',\n",
       " 'fileCSV',\n",
       " 'fileupload',\n",
       " 'helperFunctions.py']"
      ]
     },
     "execution_count": 8,
     "metadata": {},
     "output_type": "execute_result"
    }
   ],
   "source": [
    "os.listdir(os.curdir)"
   ]
  },
  {
   "cell_type": "markdown",
   "id": "41654fcc",
   "metadata": {},
   "source": [
    "Problem statement:\n",
    "\n",
    "Excel file is uploaded to particular folder on regular intervals, say 15 minutes\n",
    "File needs to be converted to CSV file and written back to same folder\n",
    "The data in the file needs to be written to a database connected to Airflow\n",
    "\n",
    "1) Locate the file location where it will be regularly updated by the absolute path\n",
    "\n",
    "2) Write the function to read the file into pandas, create dataframe, drop unncessary columns\n",
    "\n",
    "3) Write the function that writes the dataframe to csv file and stores it back to destination location\n",
    "\n",
    "4) Write the database connectivity function that creates the table in Postgresql database\n",
    "\n",
    "5) Deploy the Airflow DAG\n",
    "\n",
    "5) Write the unit tests for these functions \n",
    "\n",
    "6) Build a Ci-Cd pipeline for checking these functions\n",
    "\n",
    "7) Re-deploy the DAG\n"
   ]
  },
  {
   "cell_type": "code",
   "execution_count": 2,
   "id": "fdc9a27f",
   "metadata": {},
   "outputs": [],
   "source": [
    "source = \"/run/media/solverbot/repoA/gitFolders/dashBoard Designs/fsPipelines/fileupload/\"\n",
    "dest = \"/run/media/solverbot/repoA/gitFolders/dashBoard Designs/fsPipelines/fileCSV/\""
   ]
  },
  {
   "cell_type": "code",
   "execution_count": 4,
   "id": "a4bff783",
   "metadata": {},
   "outputs": [
    {
     "data": {
      "text/plain": [
       "'our compay made progress in 2020.xlsx'"
      ]
     },
     "execution_count": 4,
     "metadata": {},
     "output_type": "execute_result"
    }
   ],
   "source": [
    "#Take the last file in the directory list\n",
    "os.listdir(source)[1]"
   ]
  },
  {
   "cell_type": "code",
   "execution_count": 4,
   "id": "348cce36",
   "metadata": {},
   "outputs": [],
   "source": [
    "sourcePath = source + os.listdir(source)[-1]"
   ]
  },
  {
   "cell_type": "code",
   "execution_count": 5,
   "id": "ade7edc0",
   "metadata": {},
   "outputs": [],
   "source": [
    "name = os.listdir(source)[-1]"
   ]
  },
  {
   "cell_type": "code",
   "execution_count": 6,
   "id": "04c85246",
   "metadata": {},
   "outputs": [],
   "source": [
    "sourceDF = pd.read_excel(sourcePath,sheet_name='DataSource',header=0)"
   ]
  },
  {
   "cell_type": "code",
   "execution_count": 7,
   "id": "85f00435",
   "metadata": {},
   "outputs": [
    {
     "data": {
      "text/html": [
       "<div>\n",
       "<style scoped>\n",
       "    .dataframe tbody tr th:only-of-type {\n",
       "        vertical-align: middle;\n",
       "    }\n",
       "\n",
       "    .dataframe tbody tr th {\n",
       "        vertical-align: top;\n",
       "    }\n",
       "\n",
       "    .dataframe thead th {\n",
       "        text-align: right;\n",
       "    }\n",
       "</style>\n",
       "<table border=\"1\" class=\"dataframe\">\n",
       "  <thead>\n",
       "    <tr style=\"text-align: right;\">\n",
       "      <th></th>\n",
       "      <th>Year</th>\n",
       "      <th>Ticket Types</th>\n",
       "      <th>Age-Group</th>\n",
       "      <th>Gender</th>\n",
       "      <th>Location</th>\n",
       "      <th>Ticket Price</th>\n",
       "      <th>Audience</th>\n",
       "      <th>Location-Filter</th>\n",
       "      <th>Year-Filter</th>\n",
       "      <th>Ticket-Filter</th>\n",
       "      <th>Unnamed: 10</th>\n",
       "      <th>Unnamed: 11</th>\n",
       "    </tr>\n",
       "  </thead>\n",
       "  <tbody>\n",
       "    <tr>\n",
       "      <th>0</th>\n",
       "      <td>2020</td>\n",
       "      <td>VIP</td>\n",
       "      <td>39-41</td>\n",
       "      <td>Male</td>\n",
       "      <td>Delta</td>\n",
       "      <td>100000</td>\n",
       "      <td>1</td>\n",
       "      <td>False</td>\n",
       "      <td>True</td>\n",
       "      <td>True</td>\n",
       "      <td>NaN</td>\n",
       "      <td>NaN</td>\n",
       "    </tr>\n",
       "    <tr>\n",
       "      <th>1</th>\n",
       "      <td>2020</td>\n",
       "      <td>VVIP</td>\n",
       "      <td>39-42</td>\n",
       "      <td>Female</td>\n",
       "      <td>Ebonyi</td>\n",
       "      <td>500000</td>\n",
       "      <td>3</td>\n",
       "      <td>False</td>\n",
       "      <td>True</td>\n",
       "      <td>True</td>\n",
       "      <td>NaN</td>\n",
       "      <td>120140000.0</td>\n",
       "    </tr>\n",
       "    <tr>\n",
       "      <th>2</th>\n",
       "      <td>2020</td>\n",
       "      <td>Regular</td>\n",
       "      <td>43-45</td>\n",
       "      <td>Male</td>\n",
       "      <td>Edo</td>\n",
       "      <td>20000</td>\n",
       "      <td>1</td>\n",
       "      <td>False</td>\n",
       "      <td>True</td>\n",
       "      <td>True</td>\n",
       "      <td>NaN</td>\n",
       "      <td>NaN</td>\n",
       "    </tr>\n",
       "    <tr>\n",
       "      <th>3</th>\n",
       "      <td>2020</td>\n",
       "      <td>VIP</td>\n",
       "      <td>46-48</td>\n",
       "      <td>Female</td>\n",
       "      <td>Ekiti</td>\n",
       "      <td>100000</td>\n",
       "      <td>1</td>\n",
       "      <td>False</td>\n",
       "      <td>True</td>\n",
       "      <td>True</td>\n",
       "      <td>NaN</td>\n",
       "      <td>NaN</td>\n",
       "    </tr>\n",
       "    <tr>\n",
       "      <th>4</th>\n",
       "      <td>2020</td>\n",
       "      <td>VIP</td>\n",
       "      <td>49-51</td>\n",
       "      <td>Male</td>\n",
       "      <td>Imo</td>\n",
       "      <td>100000</td>\n",
       "      <td>1</td>\n",
       "      <td>False</td>\n",
       "      <td>True</td>\n",
       "      <td>True</td>\n",
       "      <td>NaN</td>\n",
       "      <td>NaN</td>\n",
       "    </tr>\n",
       "  </tbody>\n",
       "</table>\n",
       "</div>"
      ],
      "text/plain": [
       "   Year Ticket Types Age-Group  Gender Location  Ticket Price  Audience  \\\n",
       "0  2020          VIP     39-41    Male    Delta        100000         1   \n",
       "1  2020         VVIP     39-42  Female   Ebonyi        500000         3   \n",
       "2  2020      Regular     43-45    Male      Edo         20000         1   \n",
       "3  2020          VIP     46-48  Female    Ekiti        100000         1   \n",
       "4  2020          VIP     49-51    Male      Imo        100000         1   \n",
       "\n",
       "   Location-Filter  Year-Filter  Ticket-Filter  Unnamed: 10  Unnamed: 11  \n",
       "0            False         True           True          NaN          NaN  \n",
       "1            False         True           True          NaN  120140000.0  \n",
       "2            False         True           True          NaN          NaN  \n",
       "3            False         True           True          NaN          NaN  \n",
       "4            False         True           True          NaN          NaN  "
      ]
     },
     "execution_count": 7,
     "metadata": {},
     "output_type": "execute_result"
    }
   ],
   "source": [
    "sourceDF.head()"
   ]
  },
  {
   "cell_type": "code",
   "execution_count": 8,
   "id": "f7f11267",
   "metadata": {},
   "outputs": [],
   "source": [
    "frameCols = sourceDF.columns\n",
    "dropColumns = []\n",
    "for x in frameCols:\n",
    "    if x.split(':')[0] == 'Unnamed':\n",
    "        dropColumns.append(x)\n",
    "sourceDF.drop(dropColumns,inplace=True,axis=1)"
   ]
  },
  {
   "cell_type": "code",
   "execution_count": 9,
   "id": "6ba2f303",
   "metadata": {},
   "outputs": [],
   "source": [
    "#Formatting the columns headers to \n",
    "frameCols = sourceDF.columns\n",
    "cols = []\n",
    "for x in frameCols:\n",
    "    temp = x.replace(\" \",'_')\n",
    "    temp = temp.replace(\"-\",\"_\")\n",
    "    temp = temp.replace(\":\",\"_\")\n",
    "    cols.append(temp)\n",
    "sourceDF.columns = cols"
   ]
  },
  {
   "cell_type": "code",
   "execution_count": 10,
   "id": "2fe221b6",
   "metadata": {},
   "outputs": [],
   "source": [
    "#transformation function\n",
    "def transformXL(fileLocation, worksheet = 'DataSource'):\n",
    "    \n",
    "    sourceDF = pd.read_excel(sourcePath,sheet_name='DataSource',header=0)\n",
    "    \n",
    "    frameCols = sourceDF.columns\n",
    "    dropColumns = []\n",
    "    \n",
    "    for x in frameCols:\n",
    "        if x.split(':')[0] == 'Unnamed':\n",
    "            dropColumns.append(x)\n",
    "    sourceDF.drop(dropColumns,inplace=True,axis=1)\n",
    "    \n",
    "    #Formatting the columns headers to \n",
    "    frameCols = sourceDF.columns\n",
    "    cols = []\n",
    "    for x in frameCols:\n",
    "        temp = x.replace(\" \",'_')\n",
    "        temp = temp.replace(\"-\",\"_\")\n",
    "        temp = temp.replace(\":\",\"_\")\n",
    "        cols.append(temp)\n",
    "        \n",
    "    sourceDF.columns = cols\n",
    "    \n",
    "    return sourceDF"
   ]
  },
  {
   "cell_type": "code",
   "execution_count": 11,
   "id": "7283eec7",
   "metadata": {},
   "outputs": [
    {
     "data": {
      "text/plain": [
       "'/run/media/solverbot/repoA/gitFolders/dashBoard Designs/fsPipelines/fileCSV/Tick_Sales_Dashboard.csv'"
      ]
     },
     "execution_count": 11,
     "metadata": {},
     "output_type": "execute_result"
    }
   ],
   "source": [
    "destname = name.split('.')[0]+'.csv'\n",
    "destname = destname.replace(' ','_')\n",
    "destname = dest + destname\n",
    "destname"
   ]
  },
  {
   "cell_type": "code",
   "execution_count": 12,
   "id": "68fa1aa9",
   "metadata": {},
   "outputs": [],
   "source": [
    "sourceDF.to_csv(destname,index=False)"
   ]
  },
  {
   "cell_type": "code",
   "execution_count": 17,
   "id": "c3a8f356",
   "metadata": {},
   "outputs": [],
   "source": [
    "def writeFS(dataframe, filename):\n",
    "    dataframe.to_csv(filename,index=False)"
   ]
  },
  {
   "cell_type": "code",
   "execution_count": 16,
   "id": "03396eee",
   "metadata": {},
   "outputs": [
    {
     "data": {
      "text/plain": [
       "['Tick_Sales_Dashboard.csv']"
      ]
     },
     "execution_count": 16,
     "metadata": {},
     "output_type": "execute_result"
    }
   ],
   "source": [
    "os.listdir(dest)"
   ]
  },
  {
   "cell_type": "code",
   "execution_count": 18,
   "id": "a5b80c6d",
   "metadata": {},
   "outputs": [],
   "source": [
    "import configparser\n",
    "import warnings\n",
    "warnings.filterwarnings('ignore')"
   ]
  },
  {
   "cell_type": "code",
   "execution_count": 19,
   "id": "4663fd7c",
   "metadata": {},
   "outputs": [
    {
     "data": {
      "text/plain": [
       "['clusterdash.config']"
      ]
     },
     "execution_count": 19,
     "metadata": {},
     "output_type": "execute_result"
    }
   ],
   "source": [
    "config = configparser.ConfigParser()\n",
    "config.read('clusterdash.config')"
   ]
  },
  {
   "cell_type": "code",
   "execution_count": null,
   "id": "fa134e32",
   "metadata": {},
   "outputs": [],
   "source": [
    "os"
   ]
  },
  {
   "cell_type": "code",
   "execution_count": 20,
   "id": "adf134c8",
   "metadata": {},
   "outputs": [],
   "source": [
    "db = config['POSTGRES']['PG_DB']\n",
    "user = config['POSTGRES']['PG_UNAME']\n",
    "passwd = config['POSTGRES']['PG_PASS']\n",
    "port = config['POSTGRES']['PG_PORT']\n",
    "host = config['POSTGRES']['PG_HOST']"
   ]
  },
  {
   "cell_type": "code",
   "execution_count": 23,
   "id": "62db2b4a",
   "metadata": {},
   "outputs": [],
   "source": [
    "credentials = \"postgresql://{}:{}@{}:{}/{}\".format(user,passwd,host,port,db)"
   ]
  },
  {
   "cell_type": "code",
   "execution_count": 24,
   "id": "81422338",
   "metadata": {},
   "outputs": [],
   "source": [
    "#using psycopg2 to establish connection and keep the cursor ready\n",
    "\n",
    "import psycopg2\n",
    "try:\n",
    "    conn = psycopg2.connect(host=host,dbname=db,user=user,password=passwd,port=port)\n",
    "except Exception as e:\n",
    "    print(e)\n",
    "    \n",
    "conn.set_session(autocommit=True)\n",
    "\n",
    "try:\n",
    "    cur = conn.cursor()\n",
    "    \n",
    "except:\n",
    "    print(e)"
   ]
  },
  {
   "cell_type": "code",
   "execution_count": 62,
   "id": "cd2f661c",
   "metadata": {},
   "outputs": [],
   "source": [
    "#Using pandas read_sql for getting schema\n",
    "def getSchema(tableName, credentials):\n",
    "    schema = pd.read_sql(\"\"\"SELECT * FROM information_schema.columns where table_name='{}'\"\"\".format(tableName),con=credentials)\n",
    "    return schema\n",
    "\n",
    "#Issue is in using pd.read_sql to write data to the database. so using psycopg2\n",
    "def queryTable(query):\n",
    "    try:\n",
    "        schema = cur.execute(query)\n",
    "\n",
    "    except Exception as e:\n",
    "        print(e)\n",
    "        \n",
    "#This doesn't return anything\n",
    "\n",
    "#Using the pd.read_sql for getting data from db\n",
    "def queryBase(query):\n",
    "    requiredTable = pd.read_sql(query,con=credentials)\n",
    "    return requiredTable\n",
    "\n",
    "#This returns the dataframe\n",
    "\n",
    "def schemaGen(dataframe, schemaName):\n",
    "    localSchema = pd.io.sql.get_schema(dataframe,schemaName)\n",
    "    localSchema = localSchema.replace('TEXT','VARCHAR(255)').replace('INTEGER','VARCHAR').replace('\\n','').replace('\"',\"\")\n",
    "    return \"\".join(localSchema)\n",
    "\n",
    "def createCopyQuery(csvFilePath, tableName):\n",
    "    copyCsvData = f\"\"\"COPY {tableName} from '{csvFilePath}' DELIMITER ',' CSV HEADER\"\"\"\n",
    "    return copyCsvData"
   ]
  },
  {
   "cell_type": "code",
   "execution_count": 64,
   "id": "b8005785",
   "metadata": {},
   "outputs": [],
   "source": [
    "def writeToDb(config, dataframe, tableName, fileLocation):\n",
    "    import psycopg2\n",
    "    \n",
    "    #database connection data\n",
    "    db = config['POSTGRES']['PG_DB']\n",
    "    user = config['POSTGRES']['PG_UNAME']\n",
    "    passwd = config['POSTGRES']['PG_PASS']\n",
    "    port = config['POSTGRES']['PG_PORT']\n",
    "    host = config['POSTGRES']['PG_HOST']\n",
    "\n",
    "    try:\n",
    "        conn = psycopg2.connect(host=host,dbname=db,user=user,password=passwd,port=port)\n",
    "        cur = conn.cursor()\n",
    "\n",
    "    except Exception as e:\n",
    "        print(e)\n",
    "\n",
    "    conn.set_session(autocommit=True)\n",
    "    \n",
    "    tableCreationQuery = schemaGen(dataframe,tableName)\n",
    "    \n",
    "    #Create table\n",
    "    queryTable(tableCreationQuery)\n",
    "    \n",
    "    #Create file copy query\n",
    "    copyQuery = createCopyQuery(fileLocation,tableName)\n",
    "    \n",
    "    #Write data to the database\n",
    "    \n",
    "    queryTable(copyQuery)\n",
    "    \n",
    "    print(f'Completed. Check the database by querying it with Select * FROM {tableName}')"
   ]
  },
  {
   "cell_type": "code",
   "execution_count": 65,
   "id": "1f791d87",
   "metadata": {},
   "outputs": [],
   "source": [
    "table_name = name.split('.')[0].replace(' ','_')"
   ]
  },
  {
   "cell_type": "code",
   "execution_count": 56,
   "id": "d977b0e7",
   "metadata": {},
   "outputs": [],
   "source": [
    "tableCreationQuery = schemaGen(sourceDF,name.split('.')[0].replace(' ','_'))"
   ]
  },
  {
   "cell_type": "code",
   "execution_count": 57,
   "id": "7b13f3e7",
   "metadata": {},
   "outputs": [
    {
     "data": {
      "text/plain": [
       "'CREATE TABLE Tick_Sales_Dashboard (Year VARCHAR,  Ticket_Types VARCHAR(255),  Age_Group VARCHAR(255),  Gender VARCHAR(255),  Location VARCHAR(255),  Ticket_Price VARCHAR,  Audience VARCHAR,  Location_Filter VARCHAR,  Year_Filter VARCHAR,  Ticket_Filter VARCHAR)'"
      ]
     },
     "execution_count": 57,
     "metadata": {},
     "output_type": "execute_result"
    }
   ],
   "source": [
    "tableCreationQuery"
   ]
  },
  {
   "cell_type": "code",
   "execution_count": 58,
   "id": "905a09ea",
   "metadata": {},
   "outputs": [],
   "source": [
    "queryTable(tableCreationQuery)"
   ]
  },
  {
   "cell_type": "code",
   "execution_count": 60,
   "id": "325c674f",
   "metadata": {},
   "outputs": [],
   "source": [
    "copyQuery = createCopyQuery(destname,name.split('.')[0].replace(' ','_'))"
   ]
  },
  {
   "cell_type": "code",
   "execution_count": 61,
   "id": "aed34105",
   "metadata": {},
   "outputs": [],
   "source": [
    "queryTable(copyQuery)"
   ]
  },
  {
   "cell_type": "code",
   "execution_count": 67,
   "id": "f6323fd9",
   "metadata": {},
   "outputs": [
    {
     "name": "stdout",
     "output_type": "stream",
     "text": [
      "Completed. Check the database by querying it with Select * FROM Tick_Sales_Dashboard\n"
     ]
    }
   ],
   "source": [
    "writeToDb(config, sourceDF, table_name, destname)"
   ]
  },
  {
   "cell_type": "code",
   "execution_count": 71,
   "id": "ca6b6243",
   "metadata": {},
   "outputs": [],
   "source": [
    "callSource = source + os.listdir(source)[1]"
   ]
  },
  {
   "cell_type": "code",
   "execution_count": 72,
   "id": "adb7c964",
   "metadata": {},
   "outputs": [],
   "source": [
    "callCenterDF = transformXL(callSource)"
   ]
  },
  {
   "cell_type": "code",
   "execution_count": 73,
   "id": "3d64ef4a",
   "metadata": {},
   "outputs": [
    {
     "data": {
      "text/html": [
       "<div>\n",
       "<style scoped>\n",
       "    .dataframe tbody tr th:only-of-type {\n",
       "        vertical-align: middle;\n",
       "    }\n",
       "\n",
       "    .dataframe tbody tr th {\n",
       "        vertical-align: top;\n",
       "    }\n",
       "\n",
       "    .dataframe thead th {\n",
       "        text-align: right;\n",
       "    }\n",
       "</style>\n",
       "<table border=\"1\" class=\"dataframe\">\n",
       "  <thead>\n",
       "    <tr style=\"text-align: right;\">\n",
       "      <th></th>\n",
       "      <th>Year</th>\n",
       "      <th>Ticket_Types</th>\n",
       "      <th>Age_Group</th>\n",
       "      <th>Gender</th>\n",
       "      <th>Location</th>\n",
       "      <th>Ticket_Price</th>\n",
       "      <th>Audience</th>\n",
       "      <th>Location_Filter</th>\n",
       "      <th>Year_Filter</th>\n",
       "      <th>Ticket_Filter</th>\n",
       "    </tr>\n",
       "  </thead>\n",
       "  <tbody>\n",
       "    <tr>\n",
       "      <th>0</th>\n",
       "      <td>2020</td>\n",
       "      <td>VIP</td>\n",
       "      <td>39-41</td>\n",
       "      <td>Male</td>\n",
       "      <td>Delta</td>\n",
       "      <td>100000</td>\n",
       "      <td>1</td>\n",
       "      <td>False</td>\n",
       "      <td>True</td>\n",
       "      <td>True</td>\n",
       "    </tr>\n",
       "    <tr>\n",
       "      <th>1</th>\n",
       "      <td>2020</td>\n",
       "      <td>VVIP</td>\n",
       "      <td>39-42</td>\n",
       "      <td>Female</td>\n",
       "      <td>Ebonyi</td>\n",
       "      <td>500000</td>\n",
       "      <td>3</td>\n",
       "      <td>False</td>\n",
       "      <td>True</td>\n",
       "      <td>True</td>\n",
       "    </tr>\n",
       "  </tbody>\n",
       "</table>\n",
       "</div>"
      ],
      "text/plain": [
       "   Year Ticket_Types Age_Group  Gender Location  Ticket_Price  Audience  \\\n",
       "0  2020          VIP     39-41    Male    Delta        100000         1   \n",
       "1  2020         VVIP     39-42  Female   Ebonyi        500000         3   \n",
       "\n",
       "   Location_Filter  Year_Filter  Ticket_Filter  \n",
       "0            False         True           True  \n",
       "1            False         True           True  "
      ]
     },
     "execution_count": 73,
     "metadata": {},
     "output_type": "execute_result"
    }
   ],
   "source": [
    "callCenterDF.head(2)"
   ]
  },
  {
   "cell_type": "code",
   "execution_count": 77,
   "id": "fbcfc529",
   "metadata": {},
   "outputs": [
    {
     "data": {
      "text/plain": [
       "'/run/media/solverbot/repoA/gitFolders/dashBoard Designs/fsPipelines/fileCSV/Call_Center_KPI_Dashboard.csv'"
      ]
     },
     "execution_count": 77,
     "metadata": {},
     "output_type": "execute_result"
    }
   ],
   "source": [
    "csvFile = os.listdir(source)[1].split('.')[0]+\".csv\"\n",
    "newDest = dest + csvFile.replace(' ','_')\n",
    "newDest"
   ]
  },
  {
   "cell_type": "code",
   "execution_count": 78,
   "id": "54e003b2",
   "metadata": {},
   "outputs": [],
   "source": [
    "#write csv file\n",
    "writeFS(callCenterDF,newDest)"
   ]
  },
  {
   "cell_type": "code",
   "execution_count": 80,
   "id": "99308556",
   "metadata": {},
   "outputs": [
    {
     "data": {
      "text/plain": [
       "['Call_Center_KPI_Dashboard.csv', 'Tick_Sales_Dashboard.csv']"
      ]
     },
     "execution_count": 80,
     "metadata": {},
     "output_type": "execute_result"
    }
   ],
   "source": [
    "os.listdir(dest)"
   ]
  },
  {
   "cell_type": "code",
   "execution_count": 81,
   "id": "a799fa4d",
   "metadata": {},
   "outputs": [
    {
     "data": {
      "text/plain": [
       "'Call_Center_KPI_Dashboard'"
      ]
     },
     "execution_count": 81,
     "metadata": {},
     "output_type": "execute_result"
    }
   ],
   "source": [
    "newTableName = os.listdir(source)[1].split('.')[0].replace(' ','_')\n",
    "newTableName"
   ]
  },
  {
   "cell_type": "code",
   "execution_count": 82,
   "id": "f920d064",
   "metadata": {},
   "outputs": [
    {
     "name": "stdout",
     "output_type": "stream",
     "text": [
      "Completed. Check the database by querying it with Select * FROM Call_Center_KPI_Dashboard\n"
     ]
    }
   ],
   "source": [
    "writeToDb(config, callCenterDF, newTableName, newDest)"
   ]
  },
  {
   "cell_type": "code",
   "execution_count": null,
   "id": "bf0aaa49",
   "metadata": {},
   "outputs": [],
   "source": []
  }
 ],
 "metadata": {
  "kernelspec": {
   "display_name": "Python 3 (ipykernel)",
   "language": "python",
   "name": "python3"
  },
  "language_info": {
   "codemirror_mode": {
    "name": "ipython",
    "version": 3
   },
   "file_extension": ".py",
   "mimetype": "text/x-python",
   "name": "python",
   "nbconvert_exporter": "python",
   "pygments_lexer": "ipython3",
   "version": "3.10.8"
  }
 },
 "nbformat": 4,
 "nbformat_minor": 5
}
