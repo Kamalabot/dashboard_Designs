{
 "cells": [
  {
   "cell_type": "markdown",
   "id": "14525a2d",
   "metadata": {},
   "source": [
    "Objective:\n",
    "\n",
    "With ever growing number of datasets available, the most important skill is ability to query the data available after getting the data. SQL has extensive verbs to query the data. When I decided to practice on the SQL query skills, getting the data is very easy. Starting from \n",
    "\n",
    " - [Kaggle](https://www.kaggle.com/)\n",
    " \n",
    " - [Observable HQ](http://observablehq.com/)\n",
    " \n",
    " - [Github Archive](https://archiveprogram.github.com/)\n",
    " \n",
    " - [Many of the APIs](https://rapidapi.com/hub)\n",
    " \n",
    " - [Pytube Library](https://pytube.io/en/latest/)\n",
    " \n",
    " - [Beautiful Soup and Selenium Library](https://www.crummy.com/software/BeautifulSoup/bs4/doc/)\n",
    "    \n",
    "are some of the sources for good data, and scraping libraries with varying levels of difficulty. So Data is abundant. \n",
    "\n",
    "What is Lacking? \n",
    "\n",
    "The skill to question the Data that is available. This skill is should not be confused with Exploratory data analysis. Skill to purposefully question the data, and extracting the required insights might need, additional datasets, and more work. \n",
    "\n",
    "When I turned to online and search for practice datasets and questions. There are competitions hosted and projects with problem statements shared on websites, for the developers to practice. Most of these services require you to register.     \n",
    "    "
   ]
  },
  {
   "cell_type": "code",
   "execution_count": 1,
   "id": "d7416ea7",
   "metadata": {},
   "outputs": [],
   "source": [
    "import pyspark\n",
    "from pyspark.sql import SparkSession\n",
    "from pyspark.sql.functions import *\n",
    "import pandas as pd"
   ]
  },
  {
   "cell_type": "code",
   "execution_count": 2,
   "id": "bf48a97e",
   "metadata": {},
   "outputs": [],
   "source": [
    "import warnings\n",
    "warnings.filterwarnings(\"ignore\")"
   ]
  },
  {
   "cell_type": "code",
   "execution_count": 3,
   "id": "3a80951a",
   "metadata": {},
   "outputs": [
    {
     "name": "stdout",
     "output_type": "stream",
     "text": [
      "22/12/07 13:53:31 WARN Utils: Your hostname, codeStation resolves to a loopback address: 127.0.1.1; using 192.168.244.83 instead (on interface wlo1)\n",
      "22/12/07 13:53:31 WARN Utils: Set SPARK_LOCAL_IP if you need to bind to another address\n",
      "22/12/07 13:53:33 WARN NativeCodeLoader: Unable to load native-hadoop library for your platform... using builtin-java classes where applicable\n"
     ]
    },
    {
     "name": "stderr",
     "output_type": "stream",
     "text": [
      "Setting default log level to \"WARN\".\n",
      "To adjust logging level use sc.setLogLevel(newLevel). For SparkR, use setLogLevel(newLevel).\n"
     ]
    }
   ],
   "source": [
    "#Starting spark with database connectivity\n",
    "spark = SparkSession.builder.appName(\"KPI\"). \\\n",
    "            config('spark.jars','/usr/share/java/postgresql-42.2.26.jar'). \\\n",
    "            getOrCreate()\n",
    "sparkread = spark.read\n",
    "sparkcon = spark.sparkContext"
   ]
  },
  {
   "cell_type": "code",
   "execution_count": 3,
   "id": "443a8198",
   "metadata": {},
   "outputs": [],
   "source": [
    "#import the Xls data\n",
    "\n",
    "mainDS = pd.read_excel(\"Call Center KPI Dashboard.xlsx\",\n",
    "                       sheet_name=\"Datasource\",\n",
    "                      header=0)"
   ]
  },
  {
   "cell_type": "code",
   "execution_count": 4,
   "id": "dbb49e52",
   "metadata": {},
   "outputs": [],
   "source": [
    "updateHeader = []\n",
    "\n",
    "for col in mainDS.columns:\n",
    "    temp = col.replace(' ','_')\n",
    "    temp = temp.replace('-','_')\n",
    "    updateHeader.append(temp)"
   ]
  },
  {
   "cell_type": "code",
   "execution_count": 5,
   "id": "68622778",
   "metadata": {},
   "outputs": [
    {
     "data": {
      "text/html": [
       "<div>\n",
       "<style scoped>\n",
       "    .dataframe tbody tr th:only-of-type {\n",
       "        vertical-align: middle;\n",
       "    }\n",
       "\n",
       "    .dataframe tbody tr th {\n",
       "        vertical-align: top;\n",
       "    }\n",
       "\n",
       "    .dataframe thead th {\n",
       "        text-align: right;\n",
       "    }\n",
       "</style>\n",
       "<table border=\"1\" class=\"dataframe\">\n",
       "  <thead>\n",
       "    <tr style=\"text-align: right;\">\n",
       "      <th></th>\n",
       "      <th>Call_Id</th>\n",
       "      <th>Month</th>\n",
       "      <th>Agents</th>\n",
       "      <th>Department</th>\n",
       "      <th>Average_Speed_of_Answer_in_Secs</th>\n",
       "      <th>In_person_visits</th>\n",
       "      <th>Calls_Answered(Y/N)</th>\n",
       "      <th>Satisfaction_status</th>\n",
       "      <th>Months_Filter</th>\n",
       "    </tr>\n",
       "  </thead>\n",
       "  <tbody>\n",
       "    <tr>\n",
       "      <th>0</th>\n",
       "      <td>cid1001</td>\n",
       "      <td>2020-01-01</td>\n",
       "      <td>Sali Faith</td>\n",
       "      <td>Production</td>\n",
       "      <td>17.0</td>\n",
       "      <td>10.0</td>\n",
       "      <td>Y</td>\n",
       "      <td>1.0</td>\n",
       "      <td>False</td>\n",
       "    </tr>\n",
       "    <tr>\n",
       "      <th>1</th>\n",
       "      <td>cid1002</td>\n",
       "      <td>2020-01-02</td>\n",
       "      <td>Will Fresh</td>\n",
       "      <td>Sales</td>\n",
       "      <td>14.0</td>\n",
       "      <td>39.0</td>\n",
       "      <td>Y</td>\n",
       "      <td>0.0</td>\n",
       "      <td>False</td>\n",
       "    </tr>\n",
       "    <tr>\n",
       "      <th>2</th>\n",
       "      <td>cid1003</td>\n",
       "      <td>2020-01-03</td>\n",
       "      <td>Peter Anni</td>\n",
       "      <td>Logistic</td>\n",
       "      <td>22.0</td>\n",
       "      <td>4.0</td>\n",
       "      <td>Y</td>\n",
       "      <td>1.0</td>\n",
       "      <td>False</td>\n",
       "    </tr>\n",
       "    <tr>\n",
       "      <th>3</th>\n",
       "      <td>cid1004</td>\n",
       "      <td>2020-01-04</td>\n",
       "      <td>Mumin Yusha</td>\n",
       "      <td>Sales</td>\n",
       "      <td>24.0</td>\n",
       "      <td>5.0</td>\n",
       "      <td>Y</td>\n",
       "      <td>1.0</td>\n",
       "      <td>False</td>\n",
       "    </tr>\n",
       "    <tr>\n",
       "      <th>4</th>\n",
       "      <td>cid1005</td>\n",
       "      <td>2020-01-05</td>\n",
       "      <td>Freda Grek</td>\n",
       "      <td>Logistic</td>\n",
       "      <td>14.0</td>\n",
       "      <td>0.0</td>\n",
       "      <td>y</td>\n",
       "      <td>1.0</td>\n",
       "      <td>False</td>\n",
       "    </tr>\n",
       "  </tbody>\n",
       "</table>\n",
       "</div>"
      ],
      "text/plain": [
       "   Call_Id      Month       Agents  Department  \\\n",
       "0  cid1001 2020-01-01   Sali Faith  Production   \n",
       "1  cid1002 2020-01-02   Will Fresh       Sales   \n",
       "2  cid1003 2020-01-03   Peter Anni    Logistic   \n",
       "3  cid1004 2020-01-04  Mumin Yusha       Sales   \n",
       "4  cid1005 2020-01-05   Freda Grek    Logistic   \n",
       "\n",
       "   Average_Speed_of_Answer_in_Secs  In_person_visits Calls_Answered(Y/N)  \\\n",
       "0                             17.0              10.0                   Y   \n",
       "1                             14.0              39.0                   Y   \n",
       "2                             22.0               4.0                   Y   \n",
       "3                             24.0               5.0                   Y   \n",
       "4                             14.0               0.0                   y   \n",
       "\n",
       "   Satisfaction_status  Months_Filter  \n",
       "0                  1.0          False  \n",
       "1                  0.0          False  \n",
       "2                  1.0          False  \n",
       "3                  1.0          False  \n",
       "4                  1.0          False  "
      ]
     },
     "execution_count": 5,
     "metadata": {},
     "output_type": "execute_result"
    }
   ],
   "source": [
    "#When the column headers are referred in SQL, \n",
    "#having space in header names will create challenges \n",
    "mainDS.columns = updateHeader\n",
    "mainDS.head()"
   ]
  },
  {
   "cell_type": "code",
   "execution_count": 104,
   "id": "6e6aeb8c",
   "metadata": {},
   "outputs": [
    {
     "name": "stdout",
     "output_type": "stream",
     "text": [
      "<class 'pandas.core.frame.DataFrame'>\n",
      "RangeIndex: 649 entries, 0 to 648\n",
      "Data columns (total 9 columns):\n",
      " #   Column                           Non-Null Count  Dtype         \n",
      "---  ------                           --------------  -----         \n",
      " 0   Call_Id                          649 non-null    object        \n",
      " 1   Month                            649 non-null    datetime64[ns]\n",
      " 2   Agents                           649 non-null    object        \n",
      " 3   Department                       649 non-null    object        \n",
      " 4   Average_Speed_of_Answer_in_Secs  467 non-null    float64       \n",
      " 5   In_person_visits                 627 non-null    float64       \n",
      " 6   Calls_Answered(Y/N)              649 non-null    object        \n",
      " 7   Satisfaction_status              467 non-null    float64       \n",
      " 8   Months_Filter                    649 non-null    bool          \n",
      "dtypes: bool(1), datetime64[ns](1), float64(3), object(4)\n",
      "memory usage: 41.3+ KB\n"
     ]
    }
   ],
   "source": [
    "mainDS.info()"
   ]
  },
  {
   "cell_type": "code",
   "execution_count": 105,
   "id": "e38679b3",
   "metadata": {},
   "outputs": [
    {
     "data": {
      "text/html": [
       "<div>\n",
       "<style scoped>\n",
       "    .dataframe tbody tr th:only-of-type {\n",
       "        vertical-align: middle;\n",
       "    }\n",
       "\n",
       "    .dataframe tbody tr th {\n",
       "        vertical-align: top;\n",
       "    }\n",
       "\n",
       "    .dataframe thead th {\n",
       "        text-align: right;\n",
       "    }\n",
       "</style>\n",
       "<table border=\"1\" class=\"dataframe\">\n",
       "  <thead>\n",
       "    <tr style=\"text-align: right;\">\n",
       "      <th></th>\n",
       "      <th>Call_Id</th>\n",
       "      <th>Month</th>\n",
       "      <th>Agents</th>\n",
       "      <th>Department</th>\n",
       "      <th>Average_Speed_of_Answer_in_Secs</th>\n",
       "      <th>In_person_visits</th>\n",
       "      <th>Calls_Answered(Y/N)</th>\n",
       "      <th>Satisfaction_status</th>\n",
       "      <th>Months_Filter</th>\n",
       "    </tr>\n",
       "  </thead>\n",
       "  <tbody>\n",
       "    <tr>\n",
       "      <th>36</th>\n",
       "      <td>cid1037</td>\n",
       "      <td>2020-02-06</td>\n",
       "      <td>Will Fresh</td>\n",
       "      <td>Sales</td>\n",
       "      <td>31.0</td>\n",
       "      <td>NaN</td>\n",
       "      <td>Y</td>\n",
       "      <td>1.0</td>\n",
       "      <td>True</td>\n",
       "    </tr>\n",
       "    <tr>\n",
       "      <th>80</th>\n",
       "      <td>cid1081</td>\n",
       "      <td>2020-03-21</td>\n",
       "      <td>Sali Faith</td>\n",
       "      <td>Production</td>\n",
       "      <td>106.0</td>\n",
       "      <td>NaN</td>\n",
       "      <td>Y</td>\n",
       "      <td>1.0</td>\n",
       "      <td>False</td>\n",
       "    </tr>\n",
       "    <tr>\n",
       "      <th>102</th>\n",
       "      <td>cid1103</td>\n",
       "      <td>2020-04-12</td>\n",
       "      <td>Peter Anni</td>\n",
       "      <td>Logistic</td>\n",
       "      <td>29.0</td>\n",
       "      <td>NaN</td>\n",
       "      <td>Y</td>\n",
       "      <td>1.0</td>\n",
       "      <td>False</td>\n",
       "    </tr>\n",
       "  </tbody>\n",
       "</table>\n",
       "</div>"
      ],
      "text/plain": [
       "     Call_Id      Month      Agents  Department  \\\n",
       "36   cid1037 2020-02-06  Will Fresh       Sales   \n",
       "80   cid1081 2020-03-21  Sali Faith  Production   \n",
       "102  cid1103 2020-04-12  Peter Anni    Logistic   \n",
       "\n",
       "     Average_Speed_of_Answer_in_Secs  In_person_visits Calls_Answered(Y/N)  \\\n",
       "36                              31.0               NaN                   Y   \n",
       "80                             106.0               NaN                   Y   \n",
       "102                             29.0               NaN                   Y   \n",
       "\n",
       "     Satisfaction_status  Months_Filter  \n",
       "36                   1.0           True  \n",
       "80                   1.0          False  \n",
       "102                  1.0          False  "
      ]
     },
     "execution_count": 105,
     "metadata": {},
     "output_type": "execute_result"
    }
   ],
   "source": [
    "mainDS[mainDS.In_person_visits.isna()].head(3)"
   ]
  },
  {
   "cell_type": "code",
   "execution_count": 11,
   "id": "e48f47aa",
   "metadata": {},
   "outputs": [
    {
     "data": {
      "text/html": [
       "<div>\n",
       "<style scoped>\n",
       "    .dataframe tbody tr th:only-of-type {\n",
       "        vertical-align: middle;\n",
       "    }\n",
       "\n",
       "    .dataframe tbody tr th {\n",
       "        vertical-align: top;\n",
       "    }\n",
       "\n",
       "    .dataframe thead th {\n",
       "        text-align: right;\n",
       "    }\n",
       "</style>\n",
       "<table border=\"1\" class=\"dataframe\">\n",
       "  <thead>\n",
       "    <tr style=\"text-align: right;\">\n",
       "      <th></th>\n",
       "      <th>Call_Id</th>\n",
       "      <th>Month</th>\n",
       "      <th>Agents</th>\n",
       "      <th>Department</th>\n",
       "      <th>Average_Speed_of_Answer_in_Secs</th>\n",
       "      <th>In_person_visits</th>\n",
       "      <th>Calls_Answered(Y/N)</th>\n",
       "      <th>Satisfaction_status</th>\n",
       "      <th>Months_Filter</th>\n",
       "    </tr>\n",
       "  </thead>\n",
       "  <tbody>\n",
       "    <tr>\n",
       "      <th>6</th>\n",
       "      <td>cid1007</td>\n",
       "      <td>2020-01-07</td>\n",
       "      <td>Will Fresh</td>\n",
       "      <td>Sales</td>\n",
       "      <td>NaN</td>\n",
       "      <td>4.0</td>\n",
       "      <td>N</td>\n",
       "      <td>NaN</td>\n",
       "      <td>False</td>\n",
       "    </tr>\n",
       "    <tr>\n",
       "      <th>7</th>\n",
       "      <td>cid1008</td>\n",
       "      <td>2020-01-08</td>\n",
       "      <td>Peter Anni</td>\n",
       "      <td>Logistic</td>\n",
       "      <td>NaN</td>\n",
       "      <td>2.0</td>\n",
       "      <td>N</td>\n",
       "      <td>NaN</td>\n",
       "      <td>False</td>\n",
       "    </tr>\n",
       "  </tbody>\n",
       "</table>\n",
       "</div>"
      ],
      "text/plain": [
       "   Call_Id      Month      Agents Department  Average_Speed_of_Answer_in_Secs  \\\n",
       "6  cid1007 2020-01-07  Will Fresh      Sales                              NaN   \n",
       "7  cid1008 2020-01-08  Peter Anni   Logistic                              NaN   \n",
       "\n",
       "   In_person_visits Calls_Answered(Y/N)  Satisfaction_status  Months_Filter  \n",
       "6               4.0                   N                  NaN          False  \n",
       "7               2.0                   N                  NaN          False  "
      ]
     },
     "execution_count": 11,
     "metadata": {},
     "output_type": "execute_result"
    }
   ],
   "source": [
    "mainDS[mainDS.Average_Speed_of_Answer_in_Secs.isna()].head(2)"
   ]
  },
  {
   "cell_type": "code",
   "execution_count": 6,
   "id": "0843ad94",
   "metadata": {},
   "outputs": [
    {
     "data": {
      "text/plain": [
       "Index(['Call_Id', 'Month', 'Agents', 'Department',\n",
       "       'Average_Speed_of_Answer_in_Secs', 'In_person_visits',\n",
       "       'Calls_Answered(Y/N)', 'Satisfaction_status', 'Months_Filter'],\n",
       "      dtype='object')"
      ]
     },
     "execution_count": 6,
     "metadata": {},
     "output_type": "execute_result"
    }
   ],
   "source": [
    "mainDS.columns"
   ]
  },
  {
   "cell_type": "code",
   "execution_count": 7,
   "id": "6fd792ad",
   "metadata": {},
   "outputs": [],
   "source": [
    "mainDStruncated = mainDS[['Call_Id', 'Month', 'Agents', 'Department',\n",
    "       'Satisfaction_status', 'Months_Filter']]"
   ]
  },
  {
   "cell_type": "code",
   "execution_count": 8,
   "id": "7d4b49c5",
   "metadata": {},
   "outputs": [],
   "source": [
    "unanswered = mainDS[mainDS['Calls_Answered(Y/N)'] == 'N']"
   ]
  },
  {
   "cell_type": "code",
   "execution_count": 9,
   "id": "80402e86",
   "metadata": {},
   "outputs": [],
   "source": [
    "mainDS = mainDS[mainDS['Calls_Answered(Y/N)'] != 'N'].dropna(axis=0)"
   ]
  },
  {
   "cell_type": "code",
   "execution_count": 10,
   "id": "f1906d69",
   "metadata": {},
   "outputs": [
    {
     "data": {
      "text/html": [
       "<div>\n",
       "<style scoped>\n",
       "    .dataframe tbody tr th:only-of-type {\n",
       "        vertical-align: middle;\n",
       "    }\n",
       "\n",
       "    .dataframe tbody tr th {\n",
       "        vertical-align: top;\n",
       "    }\n",
       "\n",
       "    .dataframe thead th {\n",
       "        text-align: right;\n",
       "    }\n",
       "</style>\n",
       "<table border=\"1\" class=\"dataframe\">\n",
       "  <thead>\n",
       "    <tr style=\"text-align: right;\">\n",
       "      <th></th>\n",
       "      <th>Call_Id</th>\n",
       "      <th>Month</th>\n",
       "      <th>Agents</th>\n",
       "      <th>Department</th>\n",
       "      <th>Average_Speed_of_Answer_in_Secs</th>\n",
       "      <th>In_person_visits</th>\n",
       "      <th>Calls_Answered(Y/N)</th>\n",
       "      <th>Satisfaction_status</th>\n",
       "      <th>Months_Filter</th>\n",
       "    </tr>\n",
       "  </thead>\n",
       "  <tbody>\n",
       "    <tr>\n",
       "      <th>4</th>\n",
       "      <td>cid1005</td>\n",
       "      <td>2020-01-05</td>\n",
       "      <td>Freda Grek</td>\n",
       "      <td>Logistic</td>\n",
       "      <td>14.0</td>\n",
       "      <td>0.0</td>\n",
       "      <td>y</td>\n",
       "      <td>1.0</td>\n",
       "      <td>False</td>\n",
       "    </tr>\n",
       "    <tr>\n",
       "      <th>22</th>\n",
       "      <td>cid1023</td>\n",
       "      <td>2020-01-23</td>\n",
       "      <td>Peter Anni</td>\n",
       "      <td>Logistic</td>\n",
       "      <td>29.0</td>\n",
       "      <td>10.0</td>\n",
       "      <td>y</td>\n",
       "      <td>0.0</td>\n",
       "      <td>False</td>\n",
       "    </tr>\n",
       "  </tbody>\n",
       "</table>\n",
       "</div>"
      ],
      "text/plain": [
       "    Call_Id      Month      Agents Department  \\\n",
       "4   cid1005 2020-01-05  Freda Grek   Logistic   \n",
       "22  cid1023 2020-01-23  Peter Anni   Logistic   \n",
       "\n",
       "    Average_Speed_of_Answer_in_Secs  In_person_visits Calls_Answered(Y/N)  \\\n",
       "4                              14.0               0.0                   y   \n",
       "22                             29.0              10.0                   y   \n",
       "\n",
       "    Satisfaction_status  Months_Filter  \n",
       "4                   1.0          False  \n",
       "22                  0.0          False  "
      ]
     },
     "execution_count": 10,
     "metadata": {},
     "output_type": "execute_result"
    }
   ],
   "source": [
    "mainDS[mainDS['Calls_Answered(Y/N)'] != 'Y'].head(2)"
   ]
  },
  {
   "cell_type": "code",
   "execution_count": 11,
   "id": "2a3ddcef",
   "metadata": {},
   "outputs": [],
   "source": [
    "mainDS.to_csv(\"callCenter_Kpi.csv\")"
   ]
  },
  {
   "cell_type": "code",
   "execution_count": null,
   "id": "087bce7d",
   "metadata": {},
   "outputs": [],
   "source": [
    "temp = sparkread.csv()"
   ]
  },
  {
   "cell_type": "code",
   "execution_count": 53,
   "id": "f08439aa",
   "metadata": {},
   "outputs": [
    {
     "name": "stdout",
     "output_type": "stream",
     "text": [
      "+-------+-------------------+----------+----------+-------------------------------+----------------+-------------------+-------------------+-------------+\n",
      "|Call_Id|              Month|    Agents|Department|Average_Speed_of_Answer_in_Secs|In_person_visits|Calls_Answered(Y/N)|Satisfaction_status|Months_Filter|\n",
      "+-------+-------------------+----------+----------+-------------------------------+----------------+-------------------+-------------------+-------------+\n",
      "|cid1001|2020-01-01 00:00:00|Sali Faith|Production|                           17.0|            10.0|                  Y|                1.0|        false|\n",
      "|cid1002|2020-01-02 00:00:00|Will Fresh|     Sales|                           14.0|            39.0|                  Y|                0.0|        false|\n",
      "+-------+-------------------+----------+----------+-------------------------------+----------------+-------------------+-------------------+-------------+\n",
      "only showing top 2 rows\n",
      "\n"
     ]
    }
   ],
   "source": [
    "#Moving the dataframe to Pyspark\n",
    "mainDF = spark.createDataFrame(mainDS)\n",
    "mainDF.select(\"*\").show(2)"
   ]
  },
  {
   "cell_type": "code",
   "execution_count": 54,
   "id": "db3f5b2c",
   "metadata": {},
   "outputs": [
    {
     "name": "stdout",
     "output_type": "stream",
     "text": [
      "+-------+-------------------+----------+----------+-------------------------------+----------------+-------------------+-------------------+-------------+\n",
      "|Call_Id|              Month|    Agents|Department|Average_Speed_of_Answer_in_Secs|In_person_visits|Calls_Answered(Y/N)|Satisfaction_status|Months_Filter|\n",
      "+-------+-------------------+----------+----------+-------------------------------+----------------+-------------------+-------------------+-------------+\n",
      "|cid1007|2020-01-07 00:00:00|Will Fresh|     Sales|                            NaN|             4.0|                  N|                NaN|        false|\n",
      "|cid1008|2020-01-08 00:00:00|Peter Anni|  Logistic|                            NaN|             2.0|                  N|                NaN|        false|\n",
      "+-------+-------------------+----------+----------+-------------------------------+----------------+-------------------+-------------------+-------------+\n",
      "only showing top 2 rows\n",
      "\n"
     ]
    }
   ],
   "source": [
    "#Moving the dataframe to Pyspark\n",
    "unansweredDF = spark.createDataFrame(unanswered)\n",
    "unansweredDF.select(\"*\").show(2)"
   ]
  },
  {
   "cell_type": "code",
   "execution_count": 108,
   "id": "1e28acef",
   "metadata": {},
   "outputs": [
    {
     "name": "stdout",
     "output_type": "stream",
     "text": [
      "+-------+-------------------+----------+----------+-------------------+-------------+\n",
      "|Call_Id|              Month|    Agents|Department|Satisfaction_status|Months_Filter|\n",
      "+-------+-------------------+----------+----------+-------------------+-------------+\n",
      "|cid1001|2020-01-01 00:00:00|Sali Faith|Production|                1.0|        false|\n",
      "|cid1002|2020-01-02 00:00:00|Will Fresh|     Sales|                0.0|        false|\n",
      "+-------+-------------------+----------+----------+-------------------+-------------+\n",
      "only showing top 2 rows\n",
      "\n"
     ]
    }
   ],
   "source": [
    "#Moving the dataframe to Pyspark\n",
    "mainDFtrunc = spark.createDataFrame(mainDStruncated)\n",
    "mainDFtrunc.select(\"*\").show(2)"
   ]
  },
  {
   "cell_type": "code",
   "execution_count": 14,
   "id": "ef3eef82",
   "metadata": {},
   "outputs": [
    {
     "name": "stdout",
     "output_type": "stream",
     "text": [
      "root\n",
      " |-- Call_Id: string (nullable = true)\n",
      " |-- Month: timestamp (nullable = true)\n",
      " |-- Agents: string (nullable = true)\n",
      " |-- Department: string (nullable = true)\n",
      " |-- Average_Speed_of_Answer_in_Secs: double (nullable = true)\n",
      " |-- In_person_visits: double (nullable = true)\n",
      " |-- Calls_Answered(Y/N): string (nullable = true)\n",
      " |-- Satisfaction_status: double (nullable = true)\n",
      " |-- Months_Filter: boolean (nullable = true)\n",
      "\n"
     ]
    }
   ],
   "source": [
    "mainDF.printSchema()"
   ]
  },
  {
   "cell_type": "code",
   "execution_count": 55,
   "id": "2f7aa886",
   "metadata": {},
   "outputs": [
    {
     "data": {
      "text/plain": [
       "DataFrame[]"
      ]
     },
     "execution_count": 55,
     "metadata": {},
     "output_type": "execute_result"
    }
   ],
   "source": [
    "spark.sql(\"\"\"CREATE DATABASE IF NOT EXISTS dashboard_wh\"\"\")\n",
    "spark.sql(\"\"\"USE dashboard_wh\"\"\")"
   ]
  },
  {
   "cell_type": "code",
   "execution_count": 56,
   "id": "d2b5696b",
   "metadata": {},
   "outputs": [],
   "source": [
    "mainDF.write.saveAsTable(\"Bpo_Kpi\",mode='overwrite')"
   ]
  },
  {
   "cell_type": "code",
   "execution_count": 58,
   "id": "63e32610",
   "metadata": {},
   "outputs": [],
   "source": [
    "unansweredDF.write.saveAsTable(\"bpo_kpi_unans\",mode='overwrite')"
   ]
  },
  {
   "cell_type": "code",
   "execution_count": 109,
   "id": "597fbbb8",
   "metadata": {},
   "outputs": [
    {
     "name": "stderr",
     "output_type": "stream",
     "text": [
      "\r",
      "[Stage 141:==========================================>              (3 + 1) / 4]\r",
      "\r",
      "                                                                                \r"
     ]
    }
   ],
   "source": [
    "mainDFtrunc.write.saveAsTable(\"bpo_kpi_trunc\",mode='overwrite')"
   ]
  },
  {
   "cell_type": "code",
   "execution_count": 110,
   "id": "3489ab9d",
   "metadata": {},
   "outputs": [
    {
     "name": "stdout",
     "output_type": "stream",
     "text": [
      "+------------+-----------------+-----------+\n",
      "|   namespace|        tableName|isTemporary|\n",
      "+------------+-----------------+-----------+\n",
      "|dashboard_wh|          bpo_kpi|      false|\n",
      "|dashboard_wh|    bpo_kpi_trunc|      false|\n",
      "|dashboard_wh|    bpo_kpi_unans|      false|\n",
      "|            |   answered_calls|       true|\n",
      "|            |  call_data_final|       true|\n",
      "|            |  data_with_month|       true|\n",
      "|            |data_without_null|       true|\n",
      "|            | unans_with_month|       true|\n",
      "|            | unanswered_calls|       true|\n",
      "+------------+-----------------+-----------+\n",
      "\n"
     ]
    }
   ],
   "source": [
    "spark.sql(\"SHOW TABLES\").show()"
   ]
  },
  {
   "cell_type": "markdown",
   "id": "9d26874e",
   "metadata": {},
   "source": [
    "The data is ingested into Python environment, and the moved into Spark Session, which is a JVM that has connectivity to Hive/ SQL databases. The ingested data has been written as permanent tables in the Spark database, created above. \n",
    "\n",
    "To begin querying the data, there needs to be purpose. In this case, it is to create a Dashboard that looks like below visual. \n",
    "\n",
    "Lets get kickin by using the inbuilt sql queries."
   ]
  },
  {
   "attachments": {
    "image.png": {
     "image/png": "[encoded data removed]"
    }
   },
   "cell_type": "markdown",
   "id": "0ecae49e",
   "metadata": {},
   "source": [
    "![image.png](attachment:image.png)"
   ]
  },
  {
   "cell_type": "code",
   "execution_count": 60,
   "id": "91363792",
   "metadata": {},
   "outputs": [
    {
     "name": "stdout",
     "output_type": "stream",
     "text": [
      "+----------+-------+-------------------+----------+----------+-------------------------------+----------------+-------------------+-------------------+-------------+--------------+\n",
      "|month_info|Call_Id|              Month|    Agents|Department|Average_Speed_of_Answer_in_Secs|In_person_visits|Calls_Answered(Y/N)|Satisfaction_status|Months_Filter|calls_answered|\n",
      "+----------+-------+-------------------+----------+----------+-------------------------------+----------------+-------------------+-------------------+-------------+--------------+\n",
      "|       Feb|cid1057|2020-02-26 00:00:00|Will Fresh|     Sales|                           10.0|            70.0|                  Y|                1.0|         true|             1|\n",
      "|       Feb|cid1058|2020-02-27 00:00:00|Peter Anni|  Logistic|                           13.0|            50.0|                  Y|                1.0|         true|             1|\n",
      "+----------+-------+-------------------+----------+----------+-------------------------------+----------------+-------------------+-------------------+-------------+--------------+\n",
      "only showing top 2 rows\n",
      "\n"
     ]
    }
   ],
   "source": [
    "#The dashboard is consolidating based on the months, \n",
    "#lets first group the data on month basis\n",
    "\n",
    "spark.sql(\"\"\"CREATE OR REPLACE TEMP VIEW data_with_month AS\n",
    "                SELECT DATE_FORMAT(month, 'MMM') AS month_info, *,\n",
    "                CASE \n",
    "                    WHEN 'Calls_Answered(Y/N)' != 'Y' THEN 1 ELSE 0\n",
    "                END AS calls_answered\n",
    "                FROM Bpo_Kpi\"\"\")\n",
    "spark.sql(\"\"\"SELECT * FROM data_with_month\"\"\").show(2)"
   ]
  },
  {
   "cell_type": "code",
   "execution_count": 75,
   "id": "518d4599",
   "metadata": {},
   "outputs": [
    {
     "name": "stdout",
     "output_type": "stream",
     "text": [
      "+----------+-------+-------------------+----------+----------+-------------------------------+----------------+-------------------+-------------------+-------------+\n",
      "|month_info|Call_Id|              Month|    Agents|Department|Average_Speed_of_Answer_in_Secs|In_person_visits|Calls_Answered(Y/N)|Satisfaction_status|Months_Filter|\n",
      "+----------+-------+-------------------+----------+----------+-------------------------------+----------------+-------------------+-------------------+-------------+\n",
      "|       Jan|cid1007|2020-01-07 00:00:00|Will Fresh|     Sales|                            NaN|             4.0|                  N|                NaN|        false|\n",
      "|       Jan|cid1008|2020-01-08 00:00:00|Peter Anni|  Logistic|                            NaN|             2.0|                  N|                NaN|        false|\n",
      "+----------+-------+-------------------+----------+----------+-------------------------------+----------------+-------------------+-------------------+-------------+\n",
      "only showing top 2 rows\n",
      "\n"
     ]
    }
   ],
   "source": [
    "spark.sql(\"\"\"CREATE OR REPLACE TEMP VIEW unans_with_month AS\n",
    "            SELECT DATE_FORMAT(month, 'MMM') as month_info, * \n",
    "                FROM bpo_kpi_unans\n",
    "                \"\"\")\n",
    "spark.sql(\"\"\"SELECT * FROM unans_with_month\"\"\").show(2)"
   ]
  },
  {
   "cell_type": "code",
   "execution_count": 111,
   "id": "66a5c570",
   "metadata": {},
   "outputs": [
    {
     "name": "stdout",
     "output_type": "stream",
     "text": [
      "+----------+-------+-------------------+----------+----------+-------------------+-------------+\n",
      "|month_info|Call_Id|              Month|    Agents|Department|Satisfaction_status|Months_Filter|\n",
      "+----------+-------+-------------------+----------+----------+-------------------+-------------+\n",
      "|       Feb|cid1057|2020-02-26 00:00:00|Will Fresh|     Sales|                1.0|         true|\n",
      "|       Feb|cid1058|2020-02-27 00:00:00|Peter Anni|  Logistic|                1.0|         true|\n",
      "+----------+-------+-------------------+----------+----------+-------------------+-------------+\n",
      "only showing top 2 rows\n",
      "\n"
     ]
    }
   ],
   "source": [
    "spark.sql(\"\"\"CREATE OR REPLACE TEMP VIEW data_trunc_month AS\n",
    "            SELECT DATE_FORMAT(month, 'MMM') as month_info, * \n",
    "                FROM bpo_kpi_trunc\n",
    "                \"\"\")\n",
    "spark.sql(\"\"\"SELECT * FROM data_trunc_month\"\"\").show(2)"
   ]
  },
  {
   "cell_type": "code",
   "execution_count": 96,
   "id": "eb61e731",
   "metadata": {},
   "outputs": [
    {
     "name": "stdout",
     "output_type": "stream",
     "text": [
      "+----------+----------+-------------------+\n",
      "|month_info|unanswered|Satisfaction_status|\n",
      "+----------+----------+-------------------+\n",
      "|       Jan|        28|                NaN|\n",
      "|       Feb|        56|                NaN|\n",
      "|       Mar|        70|                NaN|\n",
      "|       Apr|        28|                NaN|\n",
      "+----------+----------+-------------------+\n",
      "\n"
     ]
    }
   ],
   "source": [
    "spark.sql(\"\"\"CREATE OR REPLACE TEMP VIEW unanswered_calls AS\n",
    "            SELECT month_info, COUNT(In_person_visits) as unanswered,\n",
    "            Satisfaction_status\n",
    "                FROM unans_with_month\n",
    "                GROUP BY month_info, Satisfaction_status\n",
    "                \"\"\")\n",
    "spark.sql(\"\"\"SELECT * FROM unanswered_calls\"\"\").show()"
   ]
  },
  {
   "cell_type": "code",
   "execution_count": 97,
   "id": "0a81c5e1",
   "metadata": {},
   "outputs": [
    {
     "name": "stdout",
     "output_type": "stream",
     "text": [
      "+----------------+------------+-------------+----------+-------------------+\n",
      "|avg_answer_speed|total_visits|callsrecieved|month_info|Satisfaction_status|\n",
      "+----------------+------------+-------------+----------+-------------------+\n",
      "|           16.67|       328.0|           21|       Feb|                0.0|\n",
      "|           17.25|       264.0|           16|       Jan|                0.0|\n",
      "|           19.14|      1207.0|           77|       Jan|                1.0|\n",
      "|           22.98|      1903.0|          122|       Feb|                1.0|\n",
      "|           25.91|       390.0|           23|       Mar|                0.0|\n",
      "|           26.55|       842.0|           64|       Apr|                1.0|\n",
      "|           30.55|       214.0|           11|       Apr|                0.0|\n",
      "|           31.92|      1503.0|          119|       Mar|                1.0|\n",
      "+----------------+------------+-------------+----------+-------------------+\n",
      "\n"
     ]
    }
   ],
   "source": [
    "spark.sql(\"\"\"CREATE OR REPLACE TEMP VIEW answered_calls AS\n",
    "            SELECT ROUND(AVG(Average_Speed_of_Answer_in_Secs),2) \n",
    "                            AS avg_answer_speed,\n",
    "                    SUM(In_person_visits) as total_visits,\n",
    "                    SUM(calls_answered) as callsrecieved,\n",
    "                    month_info,Satisfaction_status\n",
    "                    FROM data_with_month \n",
    "                    GROUP BY month_info, Satisfaction_status\n",
    "                    ORDER BY AVG(Average_Speed_of_Answer_in_Secs)\n",
    "                    \"\"\")\n",
    "spark.sql(\"\"\"SELECT * FROM answered_calls\"\"\").show()"
   ]
  },
  {
   "cell_type": "code",
   "execution_count": 117,
   "id": "df28676e",
   "metadata": {},
   "outputs": [
    {
     "name": "stdout",
     "output_type": "stream",
     "text": [
      "+----------+----------+-------------+------------+----------------+------------+-------------+-------------------+\n",
      "|month_info|unanswered|callsrecieved|total_visits|avg_answer_speed|inboundCalls|abandonmentPC|Satisfaction_status|\n",
      "+----------+----------+-------------+------------+----------------+------------+-------------+-------------------+\n",
      "|       Jan|        28|           16|       264.0|           17.25|          44|         63.6|                0.0|\n",
      "|       Jan|        28|           77|      1207.0|           19.14|         105|         26.7|                1.0|\n",
      "|       Feb|        56|           21|       328.0|           16.67|          77|         72.7|                0.0|\n",
      "|       Feb|        56|          122|      1903.0|           22.98|         178|         31.5|                1.0|\n",
      "|       Mar|        70|          119|      1503.0|           31.92|         189|         37.0|                1.0|\n",
      "|       Mar|        70|           23|       390.0|           25.91|          93|         75.3|                0.0|\n",
      "|       Apr|        28|           11|       214.0|           30.55|          39|         71.8|                0.0|\n",
      "|       Apr|        28|           64|       842.0|           26.55|          92|         30.4|                1.0|\n",
      "+----------+----------+-------------+------------+----------------+------------+-------------+-------------------+\n",
      "\n"
     ]
    }
   ],
   "source": [
    "spark.sql(\"\"\"CREATE OR REPLACE TEMP VIEW call_data_final_table AS\n",
    "            SELECT u.month_info, u.unanswered,a.callsrecieved,\n",
    "                    a.total_visits,a.avg_answer_speed,\n",
    "                    a.callsrecieved + u.unanswered AS inboundCalls,\n",
    "                    ROUND(u.unanswered * 100/(a.callsrecieved + u.unanswered),1) AS abandonmentPC,\n",
    "                    a.Satisfaction_status\n",
    "                    FROM answered_calls AS a\n",
    "                    JOIN unanswered_calls as u\n",
    "                    ON a.month_info = u.month_info\n",
    "                    \"\"\")\n",
    "spark.sql(\"\"\"SELECT * FROM call_data_final_table\"\"\").show(truncate=True)"
   ]
  },
  {
   "cell_type": "code",
   "execution_count": 116,
   "id": "7ed9fd44",
   "metadata": {},
   "outputs": [
    {
     "name": "stdout",
     "output_type": "stream",
     "text": [
      "+----------+-------------------+----------+-----------+----------+\n",
      "|callCounts|Satisfaction_status|Department|     Agents|month_info|\n",
      "+----------+-------------------+----------+-----------+----------+\n",
      "|         8|                0.0|     Sales| Will Fresh|       Jan|\n",
      "|        21|                1.0|Production| Sali Faith|       Feb|\n",
      "|         7|                0.0|  Logistic| Peter Anni|       Feb|\n",
      "|         7|                NaN|Production| Sali Faith|       Feb|\n",
      "|         7|                NaN|     Sales| Will Fresh|       Apr|\n",
      "|         7|                NaN|  Logistic| Freda Grek|       Apr|\n",
      "|        20|                1.0|     Sales|Mumin Yusha|       Apr|\n",
      "|        14|                NaN|     Sales| Will Fresh|       Mar|\n",
      "|         4|                0.0|Production| Sali Faith|       Jan|\n",
      "|         5|                0.0|  Logistic| Peter Anni|       Apr|\n",
      "|        21|                1.0|     Sales|Mumin Yusha|       Mar|\n",
      "|         9|                1.0|  Logistic| Peter Anni|       Apr|\n",
      "|        14|                1.0|Production| Sali Faith|       Apr|\n",
      "|        14|                1.0|  Logistic| Peter Anni|       Feb|\n",
      "|         7|                NaN|  Logistic| Peter Anni|       Apr|\n",
      "|         6|                0.0|     Sales| Will Fresh|       Mar|\n",
      "|         7|                0.0|  Logistic| Freda Grek|       Feb|\n",
      "|        35|                1.0|     Sales| Will Fresh|       Feb|\n",
      "|         8|                NaN|     Sales| Will Fresh|       Jan|\n",
      "|        21|                NaN|     Sales|Mumin Yusha|       Mar|\n",
      "+----------+-------------------+----------+-----------+----------+\n",
      "only showing top 20 rows\n",
      "\n"
     ]
    }
   ],
   "source": [
    "spark.sql(\"\"\"CREATE OR REPLACE TEMP VIEW call_progress_table AS\n",
    "            SELECT COUNT(*) as callCounts, Satisfaction_status, Department,\n",
    "                    Agents, month_info\n",
    "                FROM data_trunc_month\n",
    "                GROUP BY Satisfaction_status, Department,\n",
    "                    Agents, month_info\"\"\")\n",
    "spark.sql(\"\"\"SELECT * FROM call_progress_table\"\"\").show()"
   ]
  },
  {
   "cell_type": "code",
   "execution_count": 119,
   "id": "f4a132de",
   "metadata": {},
   "outputs": [
    {
     "name": "stdout",
     "output_type": "stream",
     "text": [
      "+------------+---------------------+-----------+\n",
      "|namespace   |tableName            |isTemporary|\n",
      "+------------+---------------------+-----------+\n",
      "|dashboard_wh|bpo_kpi              |false      |\n",
      "|dashboard_wh|bpo_kpi_trunc        |false      |\n",
      "|dashboard_wh|bpo_kpi_unans        |false      |\n",
      "|            |answered_calls       |true       |\n",
      "|            |call_data_final      |true       |\n",
      "|            |call_data_final_table|true       |\n",
      "|            |call_progress_table  |true       |\n",
      "|            |data_trunc_month     |true       |\n",
      "|            |data_with_month      |true       |\n",
      "|            |data_without_null    |true       |\n",
      "|            |unans_with_month     |true       |\n",
      "|            |unanswered_calls     |true       |\n",
      "+------------+---------------------+-----------+\n",
      "\n"
     ]
    }
   ],
   "source": [
    "spark.sql(\"SHOW TABLES\").show(truncate=False)"
   ]
  },
  {
   "cell_type": "code",
   "execution_count": null,
   "id": "bfa80cd2",
   "metadata": {},
   "outputs": [],
   "source": []
  },
  {
   "cell_type": "code",
   "execution_count": null,
   "id": "800bcf9d",
   "metadata": {},
   "outputs": [],
   "source": []
  },
  {
   "cell_type": "code",
   "execution_count": null,
   "id": "906c1800",
   "metadata": {},
   "outputs": [],
   "source": []
  }
 ],
 "metadata": {
  "kernelspec": {
   "display_name": "Python 3 (ipykernel)",
   "language": "python",
   "name": "python3"
  },
  "language_info": {
   "codemirror_mode": {
    "name": "ipython",
    "version": 3
   },
   "file_extension": ".py",
   "mimetype": "text/x-python",
   "name": "python",
   "nbconvert_exporter": "python",
   "pygments_lexer": "ipython3",
   "version": "3.10.8"
  }
 },
 "nbformat": 4,
 "nbformat_minor": 5
}
